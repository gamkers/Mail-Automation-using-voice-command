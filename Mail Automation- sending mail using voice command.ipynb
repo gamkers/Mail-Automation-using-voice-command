{
 "cells": [
  {
   "cell_type": "code",
   "execution_count": null,
   "id": "daf60154",
   "metadata": {},
   "outputs": [],
   "source": [
    "import speech_recognition as sr\n",
    "listener = sr.Recognizer()\n",
    "engine: Engine = pyttsx3.init('sapi5')\n",
    "voices = engine.getProperty('voices')\n",
    "engine.setProperty('voice', voices[0].id)\n",
    "engine.setProperty('rate', 171)\n",
    "engine.setProperty('volume', 150)\n",
    "def talk(text):\n",
    "    engine.say(text)\n",
    "    engine.runAndWait()\n",
    "def mail():\n",
    "    talk(\"to whom you want to send a mail sir\")\n",
    "    receiver = input(\"type the mail: \")\n",
    "    talk(\"what message do you want to send sir \")\n",
    "    message = take_command()\n",
    "    server = smtplib.SMTP(\"smtp.gmail.com\", 587)\n",
    "    server.starttls()\n",
    "    server.login(\"@gmail.com\", \"password\")\n",
    "    server.sendmail(\"@gmail.com\", \"receiver\", message)\n",
    "    print(\"sending message to the\" + receiver)\n",
    "    sounds()\n",
    "    talk(\"sending mail\")\n",
    "    talk(\"message sent\")\n",
    "mail()"
   ]
  }
 ],
 "metadata": {
  "kernelspec": {
   "display_name": "Python 3",
   "language": "python",
   "name": "python3"
  },
  "language_info": {
   "codemirror_mode": {
    "name": "ipython",
    "version": 3
   },
   "file_extension": ".py",
   "mimetype": "text/x-python",
   "name": "python",
   "nbconvert_exporter": "python",
   "pygments_lexer": "ipython3",
   "version": "3.8.8"
  }
 },
 "nbformat": 4,
 "nbformat_minor": 5
}
